{
 "cells": [
  {
   "cell_type": "markdown",
   "metadata": {},
   "source": [
    "## Intro\n",
    "This notebook provides the code used to compute some of the results in the paper, \"Applications of Conformal Geometric Algebra to Transmission Line Theory\". It makes use of the [galgebra](https://github.com/brombo/galgebra) python module."
   ]
  },
  {
   "cell_type": "code",
   "execution_count": 2,
   "metadata": {
    "collapsed": false
   },
   "outputs": [],
   "source": [
    "from sympy import * \n",
    "from galgebra.ga import *\n",
    "from galgebra.mv import * \n",
    "\n",
    "\n",
    "cf3g = '1 0 0 0, 0 1 0 0, 0 0 1 0, 0 0 0 -1'\n",
    "cf3 = Ga('e_1 e_2 e_3 e_4', g = cf3g)\n",
    "(e1, e2, e3, e4) = cf3.mv()\n",
    "\n",
    "alpha1,alpha2,alpha3,alpha4,beta, theta, phi = symbols('alpha1 alpha2 alpha3 alpha4 beta theta phi')\n",
    "half = Rational(1,2)\n",
    "\n",
    "# setup  null basis, and minkowski subspace bivector\n",
    "eo = half^(e4-e3) # use rational for 1/2\n",
    "einf = e3+e4\n",
    "E0 = einf^eo\n",
    "I = e1^e2^e3^e4\n",
    "e1234 = e1^e2^e3^e4"
   ]
  },
  {
   "cell_type": "code",
   "execution_count": 3,
   "metadata": {
    "collapsed": false
   },
   "outputs": [],
   "source": [
    "from sympy import I as i\n",
    "alpha,beta = symbols('alpha beta', real=True)\n",
    "\n",
    "up = lambda x: x + (half^((x*x)*einf)) + eo  # ! '**' doesnt work for scalars # !use half\n",
    "homo = lambda x: x * (-x|einf).inv() # ! inv syntax\n",
    "down = lambda x: (homo(x)^E0)*E0\n",
    "\n",
    "c2v = lambda x: (re(x)*e1) + (im(x)*e2) # ! sympy has re(), im() not properties\n",
    "v2c = lambda x: (x|e1)+ (x|e2)*i\n",
    "\n",
    "cot = lambda x: 1./tan(x)\n",
    "\n",
    "Rot = lambda V,X: V*X*V.inv()\n",
    "t = lambda A: 1-(.25*(einf*A)*(einf|A).inv()*(1+E0))\n",
    "T =lambda a: 1+(half^(einf*a))\n",
    "\n",
    "\n",
    "\n",
    "A = cf3.mv('a','vector')\n",
    "a = down(A)\n",
    "assert (T(a)==t(up(a)))"
   ]
  },
  {
   "cell_type": "code",
   "execution_count": 49,
   "metadata": {
    "collapsed": false
   },
   "outputs": [],
   "source": [
    "\n",
    "\n",
    "## conformal operations\n",
    "CI = lambda X: Rot((e2^e3),X) # complex inversion\n",
    "Add = lambda X,Y: Rot(t(Y),X)\n",
    "#Mul = lambda X,Y: \n",
    "\n",
    "\n",
    "## basis transforms\n",
    "Rzy = exp(-pi/2*(e2^e3))\n",
    "Ryz = ~Rzy\n",
    "Rsz = exp(pi/4*(e1^e3))\n",
    "Rzs = ~Rsz\n",
    "Rsy = Rsz*Rzy\n",
    "Rys = ~Rsy"
   ]
  },
  {
   "cell_type": "markdown",
   "metadata": {},
   "source": [
    "### Transmission line in S,Y, and Z"
   ]
  },
  {
   "cell_type": "code",
   "execution_count": 59,
   "metadata": {
    "collapsed": false
   },
   "outputs": [],
   "source": [
    "Ls = exp(theta*e1*e2)\n",
    "Lz = Rzs*Ls*Rsz\n",
    "assert(Lz== exp(-theta*e2*e3))"
   ]
  },
  {
   "cell_type": "code",
   "execution_count": 60,
   "metadata": {
    "collapsed": false
   },
   "outputs": [],
   "source": [
    "Ly = Rys*Ls*Rsy\n",
    "assert(Ly== exp(-theta*e2*e3))"
   ]
  },
  {
   "cell_type": "markdown",
   "metadata": {},
   "source": [
    "### Bivector Algebra and Rotors"
   ]
  },
  {
   "cell_type": "code",
   "execution_count": 71,
   "metadata": {
    "collapsed": false
   },
   "outputs": [],
   "source": [
    "# symbols\n",
    "r,x,g,b,theta,rho,q,n = symbols('r,x,g,b,theta,rho,q,n')\n",
    "\n",
    "# bivector algebra \n",
    "R =  e3*e4-e1*e3\n",
    "X = -e2*e4+e1*e2\n",
    "G =  e3*e4+e1*e3\n",
    "B =  e2*e4+e1*e2\n",
    "N =  e1*e4\n",
    "Q =  e3*e2\n",
    "\n",
    "# others\n",
    "L = e1^e2\n",
    "A = E0\n",
    "\n",
    "# Rotors\n",
    "Rr = exp(half*r*R)\n",
    "Rx = exp(half*x*X)\n",
    "Rg = exp(half*g*G)\n",
    "Rb = exp(half*b*B)\n",
    "Rn = exp(-half*log(n)*N)\n",
    "Rq = exp(half*q*Q)\n",
    "\n",
    "# others\n",
    "Rl = exp(theta*L)\n",
    "Ra = exp(-half*log(rho)*A)\n",
    "\n",
    "#test rotors do what we want\n",
    "assert(Rsz*T(r*e1)*Rzs == Rr)\n",
    "assert(Rsz*T(x*e2)*Rzs == Rx)\n",
    "assert(Rsy*T(g*e1)*Rys == Rg)\n",
    "assert(Rsy*T(b*e2)*Rys == Rb)\n",
    "\n",
    "\n",
    "# duality relations \n",
    "assert(R*I == X)\n",
    "assert(G*I == B)\n",
    "assert(A*I == L)\n",
    "assert(Q*I == N)\n",
    "\n",
    "# time-reversal relation\n",
    "assert( e4*X*e4 == -B)\n",
    "assert( e4*R*e4 ==  G)\n",
    "assert( e4*N*e4 ==  N)\n",
    "assert( e4*Q*e4 == -Q)\n",
    "\n",
    "\n",
    "# bivector classification\n",
    "# light-like\n",
    "assert(R**2==G**2==X**2==B**2==0)\n",
    "#timelike\n",
    "assert(N**2==A**2==1)\n",
    "#spacelike\n",
    "assert(Q**2==L**2==-1)\n"
   ]
  },
  {
   "cell_type": "markdown",
   "metadata": {},
   "source": [
    "###  Bivector Commutator table"
   ]
  },
  {
   "cell_type": "code",
   "execution_count": 6,
   "metadata": {
    "collapsed": false
   },
   "outputs": [],
   "source": [
    "#diagonal \n",
    "for k in [R,X,G,B,N,Q]:\n",
    "    assert(k>>k ==0)\n",
    "\n",
    "assert(R>>G==-2*N)\n",
    "assert(R>>X==0)\n",
    "assert(R>>B==2*Q)\n",
    "assert(R>>N==R)\n",
    "assert(R>>Q==-X)\n",
    "\n",
    "assert(G>>X==-2*Q)\n",
    "assert(G>>B==0)\n",
    "assert(G>>N==-G)\n",
    "assert(G>>Q==B)\n",
    "\n",
    "assert(X>>B ==2*N)\n",
    "assert(X>>N ==X)\n",
    "assert(X>>Q ==R)\n",
    "\n",
    "assert(B>>N==-B)\n",
    "assert(B>>Q==-G)\n",
    "\n",
    "assert(N>>Q ==0)\n"
   ]
  },
  {
   "cell_type": "markdown",
   "metadata": {},
   "source": [
    "## Impedance Transformer"
   ]
  },
  {
   "cell_type": "markdown",
   "metadata": {},
   "source": [
    "Ensure an N-rotation is a scaling in z. "
   ]
  },
  {
   "cell_type": "code",
   "execution_count": 8,
   "metadata": {
    "collapsed": false
   },
   "outputs": [
    {
     "data": {
      "text/latex": [
       "\\begin{equation*} \\alpha  n \\boldsymbol{e}_{1} \\end{equation*}"
      ],
      "text/plain": [
       "alpha*n*e_1"
      ]
     },
     "execution_count": 8,
     "metadata": {},
     "output_type": "execute_result"
    }
   ],
   "source": [
    "down(Rot(Rzs*Rn*Rsz,up(alpha*e1)))"
   ]
  },
  {
   "cell_type": "code",
   "execution_count": 9,
   "metadata": {
    "collapsed": false
   },
   "outputs": [
    {
     "data": {
      "text/latex": [
       "\\begin{equation*} \\tanh{\\left (\\frac{1}{2} \\log{\\left (n \\right )} \\right )} \\boldsymbol{e}_{1} \\end{equation*}"
      ],
      "text/plain": [
       "tanh(log(n)/2)*e_1"
      ]
     },
     "execution_count": 9,
     "metadata": {},
     "output_type": "execute_result"
    }
   ],
   "source": [
    "down(Rot(Rn,up(eo)))"
   ]
  },
  {
   "cell_type": "markdown",
   "metadata": {},
   "source": [
    "Compute the rotor for a mismatched line"
   ]
  },
  {
   "cell_type": "code",
   "execution_count": 10,
   "metadata": {
    "collapsed": false
   },
   "outputs": [
    {
     "data": {
      "text/latex": [
       "\\begin{equation*} \\cos{\\left (\\theta  \\right )}  + \\sin{\\left (\\theta  \\right )} \\cosh{\\left (\\log{\\left (n \\right )} \\right )} \\boldsymbol{e}_{1}\\wedge \\boldsymbol{e}_{2} + \\sin{\\left (\\theta  \\right )} \\sinh{\\left (\\log{\\left (n \\right )} \\right )} \\boldsymbol{e}_{2}\\wedge \\boldsymbol{e}_{4} \\end{equation*}"
      ],
      "text/plain": [
       "cos(theta) + sin(theta)*cosh(log(n))*e_1^e_2 + sin(theta)*sinh(log(n))*e_2^e_4"
      ]
     },
     "execution_count": 10,
     "metadata": {},
     "output_type": "execute_result"
    }
   ],
   "source": [
    "Rml = ~Rn*Rl*Rn\n",
    "Rml"
   ]
  },
  {
   "cell_type": "markdown",
   "metadata": {},
   "source": [
    "A line of 90deg inverts a real load's impedance"
   ]
  },
  {
   "cell_type": "code",
   "execution_count": 11,
   "metadata": {
    "collapsed": false
   },
   "outputs": [
    {
     "data": {
      "text/latex": [
       "\\begin{equation*} \\frac{1}{\\alpha } \\boldsymbol{e}_{1} \\end{equation*}"
      ],
      "text/plain": [
       "e_1/alpha"
      ]
     },
     "execution_count": 11,
     "metadata": {},
     "output_type": "execute_result"
    }
   ],
   "source": [
    "Rl90 = Rl.subs({'theta':pi/2})\n",
    "down(Rot(Rzs*Rl90*Rsz,up(alpha*e1)))"
   ]
  },
  {
   "cell_type": "markdown",
   "metadata": {},
   "source": [
    "The rotor for a mismatched line "
   ]
  },
  {
   "cell_type": "code",
   "execution_count": 12,
   "metadata": {
    "collapsed": false
   },
   "outputs": [
    {
     "data": {
      "text/latex": [
       "\\begin{equation*} \\cos{\\left (\\theta  \\right )}  + \\sin{\\left (\\theta  \\right )} \\cosh{\\left (\\log{\\left (n \\right )} \\right )} \\boldsymbol{e}_{1}\\wedge \\boldsymbol{e}_{2} + \\sin{\\left (\\theta  \\right )} \\sinh{\\left (\\log{\\left (n \\right )} \\right )} \\boldsymbol{e}_{2}\\wedge \\boldsymbol{e}_{4} \\end{equation*}"
      ],
      "text/plain": [
       "cos(theta) + sin(theta)*cosh(log(n))*e_1^e_2 + sin(theta)*sinh(log(n))*e_2^e_4"
      ]
     },
     "execution_count": 12,
     "metadata": {},
     "output_type": "execute_result"
    }
   ],
   "source": [
    "Rml = ~Rn*Rl*Rn\n",
    "Rml"
   ]
  },
  {
   "cell_type": "markdown",
   "metadata": {},
   "source": [
    "At 90deg this becomes"
   ]
  },
  {
   "cell_type": "code",
   "execution_count": 13,
   "metadata": {
    "collapsed": false
   },
   "outputs": [
    {
     "data": {
      "text/latex": [
       "\\begin{equation*} \\cosh{\\left (\\log{\\left (n \\right )} \\right )} \\boldsymbol{e}_{1}\\wedge \\boldsymbol{e}_{2} + \\sinh{\\left (\\log{\\left (n \\right )} \\right )} \\boldsymbol{e}_{2}\\wedge \\boldsymbol{e}_{4} \\end{equation*}"
      ],
      "text/plain": [
       "cosh(log(n))*e_1^e_2 + sinh(log(n))*e_2^e_4"
      ]
     },
     "execution_count": 13,
     "metadata": {},
     "output_type": "execute_result"
    }
   ],
   "source": [
    "\n",
    "Rml90 = Rml.subs({'theta':pi/2})\n",
    "Rml90"
   ]
  },
  {
   "cell_type": "markdown",
   "metadata": {},
   "source": [
    "which has the effect on a real load "
   ]
  },
  {
   "cell_type": "code",
   "execution_count": 14,
   "metadata": {
    "collapsed": false
   },
   "outputs": [
    {
     "data": {
      "text/latex": [
       "\\begin{equation*} - \\frac{\\alpha  \\cosh{\\left (\\log{\\left (n \\right )} \\right )} + \\sinh{\\left (\\log{\\left (n \\right )} \\right )}}{\\alpha  \\sinh{\\left (\\log{\\left (n \\right )} \\right )} + \\cosh{\\left (\\log{\\left (n \\right )} \\right )}} \\boldsymbol{e}_{1} \\end{equation*}"
      ],
      "text/plain": [
       "-(alpha*cosh(log(n)) + sinh(log(n)))*e_1/(alpha*sinh(log(n)) + cosh(log(n)))"
      ]
     },
     "execution_count": 14,
     "metadata": {},
     "output_type": "execute_result"
    }
   ],
   "source": [
    "down(Rot(Rml90,up(alpha*e1 )))"
   ]
  },
  {
   "cell_type": "markdown",
   "metadata": {},
   "source": [
    "and for a match, this is \n"
   ]
  },
  {
   "cell_type": "code",
   "execution_count": 15,
   "metadata": {
    "collapsed": false
   },
   "outputs": [
    {
     "data": {
      "text/latex": [
       "\\begin{equation*} - \\tanh{\\left (\\log{\\left (n \\right )} \\right )} \\boldsymbol{e}_{1} \\end{equation*}"
      ],
      "text/plain": [
       "-tanh(log(n))*e_1"
      ]
     },
     "execution_count": 15,
     "metadata": {},
     "output_type": "execute_result"
    }
   ],
   "source": [
    "down(Rot(~Rml90,up(0 )))"
   ]
  },
  {
   "cell_type": "code",
   "execution_count": 16,
   "metadata": {
    "collapsed": false
   },
   "outputs": [
    {
     "data": {
      "text/plain": [
       "True"
      ]
     },
     "execution_count": 16,
     "metadata": {},
     "output_type": "execute_result"
    }
   ],
   "source": [
    "V=(Rn*Rq)\n",
    "N*Q ==Q*N"
   ]
  },
  {
   "cell_type": "code",
   "execution_count": 17,
   "metadata": {
    "collapsed": false
   },
   "outputs": [
    {
     "data": {
      "text/latex": [
       "\\begin{equation*} \\frac{1}{2} \\sinh{\\left (\\log{\\left (n \\right )} \\right )} \\boldsymbol{e}_{1} - \\frac{1}{2} \\boldsymbol{e}_{3} + \\frac{1}{2} \\cosh{\\left (\\log{\\left (n \\right )} \\right )} \\boldsymbol{e}_{4} \\end{equation*}"
      ],
      "text/plain": [
       "sinh(log(n))*e_1/2 - e_3/2 + cosh(log(n))*e_4/2"
      ]
     },
     "execution_count": 17,
     "metadata": {},
     "output_type": "execute_result"
    }
   ],
   "source": [
    "Rot(Rn,eo)"
   ]
  },
  {
   "cell_type": "code",
   "execution_count": 18,
   "metadata": {
    "collapsed": false
   },
   "outputs": [
    {
     "data": {
      "text/latex": [
       "\\begin{equation*} \\cos{\\left (\\theta  \\right )}  + \\sin{\\left (\\theta  \\right )} \\cosh{\\left (\\log{\\left (n \\right )} \\right )} \\boldsymbol{e}_{1}\\wedge \\boldsymbol{e}_{2} - \\sin{\\left (\\theta  \\right )} \\sinh{\\left (\\log{\\left (n \\right )} \\right )} \\boldsymbol{e}_{2}\\wedge \\boldsymbol{e}_{4} \\end{equation*}"
      ],
      "text/plain": [
       "cos(theta) + sin(theta)*cosh(log(n))*e_1^e_2 - sin(theta)*sinh(log(n))*e_2^e_4"
      ]
     },
     "execution_count": 18,
     "metadata": {},
     "output_type": "execute_result"
    }
   ],
   "source": [
    "Rq*Rn*~Rq*Rl*~Rq*~Rn*Rq"
   ]
  },
  {
   "cell_type": "code",
   "execution_count": 19,
   "metadata": {
    "collapsed": false
   },
   "outputs": [
    {
     "data": {
      "text/latex": [
       "\\begin{equation*} - \\frac{\\sin^{2}{\\left (\\theta  \\right )} \\sinh{\\left (2 \\log{\\left (n \\right )} \\right )}}{\\sin^{2}{\\left (\\theta  \\right )} \\cosh{\\left (2 \\log{\\left (n \\right )} \\right )} - \\sin^{2}{\\left (\\theta  \\right )} + 2} \\boldsymbol{e}_{1} - \\frac{\\sin{\\left (2 \\theta  \\right )} \\sinh{\\left (\\log{\\left (n \\right )} \\right )}}{2 \\sin^{2}{\\left (\\theta  \\right )} \\sinh^{2}{\\left (\\log{\\left (n \\right )} \\right )} + 2} \\boldsymbol{e}_{2} \\end{equation*}"
      ],
      "text/plain": [
       "-sin(theta)**2*sinh(2*log(n))*e_1/(sin(theta)**2*cosh(2*log(n)) - sin(theta)**2 + 2) - sin(2*theta)*sinh(log(n))*e_2/(2*sin(theta)**2*sinh(log(n))**2 + 2)"
      ]
     },
     "execution_count": 19,
     "metadata": {},
     "output_type": "execute_result"
    }
   ],
   "source": [
    "down(Rot(Rml,eo))"
   ]
  },
  {
   "cell_type": "code",
   "execution_count": 20,
   "metadata": {
    "collapsed": false
   },
   "outputs": [
    {
     "data": {
      "text/latex": [
       "\\begin{equation*} \\frac{1}{\\alpha  n^{2}} \\boldsymbol{e}_{1} \\end{equation*}"
      ],
      "text/plain": [
       "e_1/(alpha*n**2)"
      ]
     },
     "execution_count": 20,
     "metadata": {},
     "output_type": "execute_result"
    }
   ],
   "source": [
    "down(Rot(Rzs*Rml90*Rsz,up(alpha*e1 )))"
   ]
  },
  {
   "cell_type": "code",
   "execution_count": 21,
   "metadata": {
    "collapsed": false
   },
   "outputs": [
    {
     "data": {
      "text/latex": [
       "\\begin{equation*} \\frac{\\sin^{2}{\\left (\\theta  \\right )} \\sinh^{2}{\\left (\\log{\\left (n \\right )} \\right )}}{\\sin^{2}{\\left (\\theta  \\right )} \\cosh^{2}{\\left (\\log{\\left (n \\right )} \\right )} + \\cos^{2}{\\left (\\theta  \\right )}} \\end{equation*}"
      ],
      "text/plain": [
       "sin(theta)**4*sinh(log(n))**2*cosh(log(n))**2/(-sin(theta)**2*sinh(log(n))**2/2 + sin(theta)**2*sinh(log(n))**2/2 + sin(theta)**2*cosh(log(n))**2 + cos(theta)**2)**2 + sin(theta)**2*cos(theta)**2*sinh(log(n))**2/(-sin(theta)**2*sinh(log(n))**2/2 + sin(theta)**2*sinh(log(n))**2/2 + sin(theta)**2*cosh(log(n))**2 + cos(theta)**2)**2"
      ]
     },
     "execution_count": 21,
     "metadata": {},
     "output_type": "execute_result"
    }
   ],
   "source": [
    "gamma_l = (down(~Rml*eo*Rml))\n",
    "gamma_l**2\n"
   ]
  },
  {
   "cell_type": "code",
   "execution_count": 35,
   "metadata": {
    "collapsed": false
   },
   "outputs": [
    {
     "data": {
      "text/latex": [
       "\\begin{equation*} \\frac{1}{2} \\sinh{\\left (\\log{\\left (n \\right )} \\right )} \\boldsymbol{e}_{1} - \\frac{1}{2} \\boldsymbol{e}_{3} + \\frac{1}{2} \\cosh{\\left (\\log{\\left (n \\right )} \\right )} \\boldsymbol{e}_{4} \\end{equation*}"
      ],
      "text/plain": [
       "sinh(log(n))*e_1/2 - e_3/2 + cosh(log(n))*e_4/2"
      ]
     },
     "execution_count": 35,
     "metadata": {},
     "output_type": "execute_result"
    }
   ],
   "source": []
  },
  {
   "cell_type": "code",
   "execution_count": 22,
   "metadata": {
    "collapsed": false
   },
   "outputs": [
    {
     "data": {
      "text/latex": [
       "\\begin{equation*} - \\frac{1}{\\tan{\\left (\\theta  \\right )} \\cosh{\\left (\\log{\\left (n \\right )} \\right )}} \\end{equation*}"
      ],
      "text/plain": [
       "-cos(theta)/(sin(theta)*cosh(log(n)))"
      ]
     },
     "execution_count": 22,
     "metadata": {},
     "output_type": "execute_result"
    }
   ],
   "source": [
    "\n",
    "(gamma_l|e2)/(gamma_l|e1)"
   ]
  },
  {
   "cell_type": "markdown",
   "metadata": {},
   "source": [
    "The center of rotation of a mismatched line may be found by rotating the origina by the impedance scaling rotor, "
   ]
  },
  {
   "cell_type": "code",
   "execution_count": 41,
   "metadata": {
    "collapsed": false
   },
   "outputs": [
    {
     "data": {
      "text/latex": [
       "\\begin{equation*} \\frac{1}{2} \\sinh{\\left (\\log{\\left (n \\right )} \\right )} \\boldsymbol{e}_{1} - \\frac{1}{2} \\boldsymbol{e}_{3} + \\frac{1}{2} \\cosh{\\left (\\log{\\left (n \\right )} \\right )} \\boldsymbol{e}_{4} \\end{equation*}"
      ],
      "text/plain": [
       "sinh(log(n))*e_1/2 - e_3/2 + cosh(log(n))*e_4/2"
      ]
     },
     "execution_count": 41,
     "metadata": {},
     "output_type": "execute_result"
    }
   ],
   "source": [
    "Rn*eo*~Rn\n"
   ]
  },
  {
   "cell_type": "code",
   "execution_count": 42,
   "metadata": {
    "collapsed": false
   },
   "outputs": [
    {
     "data": {
      "text/latex": [
       "\\begin{equation*} \\tanh{\\left (\\frac{1}{2} \\log{\\left (n \\right )} \\right )} \\boldsymbol{e}_{1} \\end{equation*}"
      ],
      "text/plain": [
       "tanh(log(n)/2)*e_1"
      ]
     },
     "execution_count": 42,
     "metadata": {},
     "output_type": "execute_result"
    }
   ],
   "source": [
    "down(Rn*eo*~Rn)"
   ]
  },
  {
   "cell_type": "code",
   "execution_count": 46,
   "metadata": {
    "collapsed": false
   },
   "outputs": [
    {
     "data": {
      "text/plain": [
       "(sinh(sinh(x) + cosh(x)) + cosh(sinh(x) + cosh(x)))*(-sinh(sinh(sinh(x) + cosh(x)) + cosh(sinh(x) + cosh(x))) + cosh(sinh(sinh(x) + cosh(x)) + cosh(sinh(x) + cosh(x))))"
      ]
     },
     "execution_count": 46,
     "metadata": {},
     "output_type": "execute_result"
    }
   ],
   "source": [
    "x = sinh(x)+cosh(x)\n",
    "b = cosh(x)-sinh(x)\n",
    "x*b"
   ]
  },
  {
   "cell_type": "code",
   "execution_count": 47,
   "metadata": {
    "collapsed": false
   },
   "outputs": [
    {
     "data": {
      "text/plain": [
       "-sinh(sinh(sinh(x) + cosh(x)) + cosh(sinh(x) + cosh(x)))**2 + cosh(sinh(sinh(x) + cosh(x)) + cosh(sinh(x) + cosh(x)))**2"
      ]
     },
     "execution_count": 47,
     "metadata": {},
     "output_type": "execute_result"
    }
   ],
   "source": [
    "cosh(x)**2 - sinh(x)**2"
   ]
  },
  {
   "cell_type": "markdown",
   "metadata": {
    "collapsed": true
   },
   "source": [
    "###  Stub Matching\n",
    "\n",
    "First find the susceptance of a shorted/opened stub.\n",
    "\n"
   ]
  },
  {
   "cell_type": "code",
   "execution_count": 24,
   "metadata": {
    "collapsed": false
   },
   "outputs": [],
   "source": [
    "short = up(-e1)\n",
    "open = up(e1)"
   ]
  },
  {
   "cell_type": "code",
   "execution_count": 25,
   "metadata": {
    "collapsed": false
   },
   "outputs": [
    {
     "data": {
      "text/latex": [
       "\\begin{equation*} \\tan{\\left (\\theta  \\right )} \\boldsymbol{e}_{2} \\end{equation*}"
      ],
      "text/plain": [
       "tan(theta)*e_2"
      ]
     },
     "execution_count": 25,
     "metadata": {},
     "output_type": "execute_result"
    }
   ],
   "source": [
    "\n",
    "down((Rys*Rl*open*~Rl*Rsy))"
   ]
  },
  {
   "cell_type": "code",
   "execution_count": 26,
   "metadata": {
    "collapsed": false
   },
   "outputs": [
    {
     "data": {
      "text/latex": [
       "\\begin{equation*} - \\frac{1}{\\tan{\\left (\\theta  \\right )}} \\boldsymbol{e}_{2} \\end{equation*}"
      ],
      "text/plain": [
       "-e_2/tan(theta)"
      ]
     },
     "execution_count": 26,
     "metadata": {},
     "output_type": "execute_result"
    }
   ],
   "source": [
    "down((Rys*Rl*short*~Rl*Rsy))"
   ]
  },
  {
   "cell_type": "markdown",
   "metadata": {},
   "source": [
    "Define rotations such stubs generate"
   ]
  },
  {
   "cell_type": "code",
   "execution_count": 27,
   "metadata": {
    "collapsed": false
   },
   "outputs": [
    {
     "data": {
      "text/latex": [
       "\\begin{equation*} 1  - \\frac{1}{2 \\tan{\\left (\\phi  \\right )}} \\boldsymbol{e}_{1}\\wedge \\boldsymbol{e}_{2} - \\frac{1}{2 \\tan{\\left (\\phi  \\right )}} \\boldsymbol{e}_{2}\\wedge \\boldsymbol{e}_{4} \\end{equation*}"
      ],
      "text/plain": [
       "1 - e_1^e_2/(2*tan(phi)) - e_2^e_4/(2*tan(phi))"
      ]
     },
     "execution_count": 27,
     "metadata": {},
     "output_type": "execute_result"
    }
   ],
   "source": [
    "Ros =exp(half*tan(phi)*B) #open stub\n",
    "Rss =exp(half*-1/tan(phi)*B) #short stub\n",
    "Rss"
   ]
  },
  {
   "cell_type": "markdown",
   "metadata": {},
   "source": [
    "Next the matching problem is inverted. Assume a match at port1, looking in from port 2, we see series line `Rl`,  shunt stub `Rss`, a and matched load."
   ]
  },
  {
   "cell_type": "code",
   "execution_count": 28,
   "metadata": {
    "collapsed": false,
    "scrolled": true
   },
   "outputs": [
    {
     "data": {
      "text/latex": [
       "\\begin{equation*} \\left ( - \\frac{1}{2} \\sin{\\left (\\theta  \\right )} \\tan{\\left (\\phi  \\right )} + \\cos{\\left (\\theta  \\right )}\\right )  + \\left ( \\sin{\\left (\\theta  \\right )} + \\frac{1}{2} \\cos{\\left (\\theta  \\right )} \\tan{\\left (\\phi  \\right )}\\right ) \\boldsymbol{e}_{1}\\wedge \\boldsymbol{e}_{2} + \\frac{1}{2} \\sin{\\left (\\theta  \\right )} \\tan{\\left (\\phi  \\right )} \\boldsymbol{e}_{1}\\wedge \\boldsymbol{e}_{4} + \\frac{1}{2} \\cos{\\left (\\theta  \\right )} \\tan{\\left (\\phi  \\right )} \\boldsymbol{e}_{2}\\wedge \\boldsymbol{e}_{4} \\end{equation*}"
      ],
      "text/plain": [
       "-sin(theta)*tan(phi)/2 + cos(theta) + (sin(theta) + cos(theta)*tan(phi)/2)*e_1^e_2 + sin(theta)*tan(phi)*e_1^e_4/2 + cos(theta)*tan(phi)*e_2^e_4/2"
      ]
     },
     "execution_count": 28,
     "metadata": {},
     "output_type": "execute_result"
    }
   ],
   "source": [
    "F= Rl*Ros\n",
    "F"
   ]
  },
  {
   "cell_type": "code",
   "execution_count": 29,
   "metadata": {
    "collapsed": false
   },
   "outputs": [
    {
     "data": {
      "text/latex": [
       "\\begin{equation*} \\frac{\\tan^{2}{\\left (\\phi  \\right )}}{\\tan^{2}{\\left (\\phi  \\right )} + 4} \\end{equation*}"
      ],
      "text/plain": [
       "(sin(theta)**2*tan(phi)/(2*(sin(theta)**2*tan(phi)**2/4 + sin(theta)**2 + cos(theta)**2*tan(phi)**2/4 + cos(theta)**2)) + sin(theta)*cos(theta)*tan(phi)**2/(2*(sin(theta)**2*tan(phi)**2/4 + sin(theta)**2 + cos(theta)**2*tan(phi)**2/4 + cos(theta)**2)) - cos(theta)**2*tan(phi)/(2*(sin(theta)**2*tan(phi)**2/4 + sin(theta)**2 + cos(theta)**2*tan(phi)**2/4 + cos(theta)**2)))**2 + (sin(theta)**2*tan(phi)**2/(4*(sin(theta)**2*tan(phi)**2/4 + sin(theta)**2 + cos(theta)**2*tan(phi)**2/4 + cos(theta)**2)) - sin(theta)*cos(theta)*tan(phi)/(sin(theta)**2*tan(phi)**2/4 + sin(theta)**2 + cos(theta)**2*tan(phi)**2/4 + cos(theta)**2) - cos(theta)**2*tan(phi)**2/(4*(sin(theta)**2*tan(phi)**2/4 + sin(theta)**2 + cos(theta)**2*tan(phi)**2/4 + cos(theta)**2)))**2"
      ]
     },
     "execution_count": 29,
     "metadata": {},
     "output_type": "execute_result"
    }
   ],
   "source": [
    "d = down(F*eo*~F)\n",
    "\n",
    "d**2"
   ]
  },
  {
   "cell_type": "markdown",
   "metadata": {},
   "source": [
    "This is  complicated, but if we look at it in polar repr"
   ]
  },
  {
   "cell_type": "code",
   "execution_count": 30,
   "metadata": {
    "collapsed": false
   },
   "outputs": [
    {
     "data": {
      "text/latex": [
       "\\begin{equation*} \\frac{- \\sin{\\left (2 \\theta  \\right )} \\tan{\\left (\\phi  \\right )} + 2 \\cos{\\left (2 \\theta  \\right )}}{2 \\sin{\\left (2 \\theta  \\right )} + \\cos{\\left (2 \\theta  \\right )} \\tan{\\left (\\phi  \\right )}} \\end{equation*}"
      ],
      "text/plain": [
       "sin(theta)**2*tan(phi)/(sin(theta)**4*tan(phi)**4/(8*(sin(theta)**2*tan(phi)**2/4 + sin(theta)**2 + cos(theta)**2*tan(phi)**2/4 + cos(theta)**2)) + sin(theta)**4*tan(phi)**2/(2*(sin(theta)**2*tan(phi)**2/4 + sin(theta)**2 + cos(theta)**2*tan(phi)**2/4 + cos(theta)**2)) - sin(theta)**3*cos(theta)*tan(phi)**3/(2*(sin(theta)**2*tan(phi)**2/4 + sin(theta)**2 + cos(theta)**2*tan(phi)**2/4 + cos(theta)**2)) - 2*sin(theta)**3*cos(theta)*tan(phi)/(sin(theta)**2*tan(phi)**2/4 + sin(theta)**2 + cos(theta)**2*tan(phi)**2/4 + cos(theta)**2) - sin(theta)*cos(theta)**3*tan(phi)**3/(2*(sin(theta)**2*tan(phi)**2/4 + sin(theta)**2 + cos(theta)**2*tan(phi)**2/4 + cos(theta)**2)) - 2*sin(theta)*cos(theta)**3*tan(phi)/(sin(theta)**2*tan(phi)**2/4 + sin(theta)**2 + cos(theta)**2*tan(phi)**2/4 + cos(theta)**2) - cos(theta)**4*tan(phi)**4/(8*(sin(theta)**2*tan(phi)**2/4 + sin(theta)**2 + cos(theta)**2*tan(phi)**2/4 + cos(theta)**2)) - cos(theta)**4*tan(phi)**2/(2*(sin(theta)**2*tan(phi)**2/4 + sin(theta)**2 + cos(theta)**2*tan(phi)**2/4 + cos(theta)**2))) + sin(theta)*cos(theta)*tan(phi)**2/(sin(theta)**4*tan(phi)**4/(8*(sin(theta)**2*tan(phi)**2/4 + sin(theta)**2 + cos(theta)**2*tan(phi)**2/4 + cos(theta)**2)) + sin(theta)**4*tan(phi)**2/(2*(sin(theta)**2*tan(phi)**2/4 + sin(theta)**2 + cos(theta)**2*tan(phi)**2/4 + cos(theta)**2)) - sin(theta)**3*cos(theta)*tan(phi)**3/(2*(sin(theta)**2*tan(phi)**2/4 + sin(theta)**2 + cos(theta)**2*tan(phi)**2/4 + cos(theta)**2)) - 2*sin(theta)**3*cos(theta)*tan(phi)/(sin(theta)**2*tan(phi)**2/4 + sin(theta)**2 + cos(theta)**2*tan(phi)**2/4 + cos(theta)**2) - sin(theta)*cos(theta)**3*tan(phi)**3/(2*(sin(theta)**2*tan(phi)**2/4 + sin(theta)**2 + cos(theta)**2*tan(phi)**2/4 + cos(theta)**2)) - 2*sin(theta)*cos(theta)**3*tan(phi)/(sin(theta)**2*tan(phi)**2/4 + sin(theta)**2 + cos(theta)**2*tan(phi)**2/4 + cos(theta)**2) - cos(theta)**4*tan(phi)**4/(8*(sin(theta)**2*tan(phi)**2/4 + sin(theta)**2 + cos(theta)**2*tan(phi)**2/4 + cos(theta)**2)) - cos(theta)**4*tan(phi)**2/(2*(sin(theta)**2*tan(phi)**2/4 + sin(theta)**2 + cos(theta)**2*tan(phi)**2/4 + cos(theta)**2))) - cos(theta)**2*tan(phi)/(sin(theta)**4*tan(phi)**4/(8*(sin(theta)**2*tan(phi)**2/4 + sin(theta)**2 + cos(theta)**2*tan(phi)**2/4 + cos(theta)**2)) + sin(theta)**4*tan(phi)**2/(2*(sin(theta)**2*tan(phi)**2/4 + sin(theta)**2 + cos(theta)**2*tan(phi)**2/4 + cos(theta)**2)) - sin(theta)**3*cos(theta)*tan(phi)**3/(2*(sin(theta)**2*tan(phi)**2/4 + sin(theta)**2 + cos(theta)**2*tan(phi)**2/4 + cos(theta)**2)) - 2*sin(theta)**3*cos(theta)*tan(phi)/(sin(theta)**2*tan(phi)**2/4 + sin(theta)**2 + cos(theta)**2*tan(phi)**2/4 + cos(theta)**2) - sin(theta)*cos(theta)**3*tan(phi)**3/(2*(sin(theta)**2*tan(phi)**2/4 + sin(theta)**2 + cos(theta)**2*tan(phi)**2/4 + cos(theta)**2)) - 2*sin(theta)*cos(theta)**3*tan(phi)/(sin(theta)**2*tan(phi)**2/4 + sin(theta)**2 + cos(theta)**2*tan(phi)**2/4 + cos(theta)**2) - cos(theta)**4*tan(phi)**4/(8*(sin(theta)**2*tan(phi)**2/4 + sin(theta)**2 + cos(theta)**2*tan(phi)**2/4 + cos(theta)**2)) - cos(theta)**4*tan(phi)**2/(2*(sin(theta)**2*tan(phi)**2/4 + sin(theta)**2 + cos(theta)**2*tan(phi)**2/4 + cos(theta)**2)))"
      ]
     },
     "execution_count": 30,
     "metadata": {},
     "output_type": "execute_result"
    }
   ],
   "source": [
    "gamma_l = down(F*eo*~F)\n",
    "(gamma_l|e2)/(gamma_l|e1)\n",
    "\n"
   ]
  },
  {
   "cell_type": "code",
   "execution_count": 31,
   "metadata": {
    "collapsed": false
   },
   "outputs": [
    {
     "data": {
      "text/latex": [
       "\\begin{equation*} \\frac{\\tan^{2}{\\left (\\phi  \\right )}}{\\tan^{2}{\\left (\\phi  \\right )} + 4} \\end{equation*}"
      ],
      "text/plain": [
       "(sin(theta)**2*tan(phi)/(2*(sin(theta)**2*tan(phi)**2/4 + sin(theta)**2 + cos(theta)**2*tan(phi)**2/4 + cos(theta)**2)) + sin(theta)*cos(theta)*tan(phi)**2/(2*(sin(theta)**2*tan(phi)**2/4 + sin(theta)**2 + cos(theta)**2*tan(phi)**2/4 + cos(theta)**2)) - cos(theta)**2*tan(phi)/(2*(sin(theta)**2*tan(phi)**2/4 + sin(theta)**2 + cos(theta)**2*tan(phi)**2/4 + cos(theta)**2)))**2 + (sin(theta)**2*tan(phi)**2/(4*(sin(theta)**2*tan(phi)**2/4 + sin(theta)**2 + cos(theta)**2*tan(phi)**2/4 + cos(theta)**2)) - sin(theta)*cos(theta)*tan(phi)/(sin(theta)**2*tan(phi)**2/4 + sin(theta)**2 + cos(theta)**2*tan(phi)**2/4 + cos(theta)**2) - cos(theta)**2*tan(phi)**2/(4*(sin(theta)**2*tan(phi)**2/4 + sin(theta)**2 + cos(theta)**2*tan(phi)**2/4 + cos(theta)**2)))**2"
      ]
     },
     "execution_count": 31,
     "metadata": {},
     "output_type": "execute_result"
    }
   ],
   "source": [
    "gamma_l**2 #and mag"
   ]
  }
 ],
 "metadata": {
  "anaconda-cloud": {},
  "kernelspec": {
   "display_name": "Python [default]",
   "language": "python",
   "name": "python2"
  },
  "language_info": {
   "codemirror_mode": {
    "name": "ipython",
    "version": 2
   },
   "file_extension": ".py",
   "mimetype": "text/x-python",
   "name": "python",
   "nbconvert_exporter": "python",
   "pygments_lexer": "ipython2",
   "version": "2.7.12"
  }
 },
 "nbformat": 4,
 "nbformat_minor": 0
}
