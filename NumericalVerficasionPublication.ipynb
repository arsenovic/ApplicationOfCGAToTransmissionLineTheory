{
 "cells": [
  {
   "cell_type": "markdown",
   "metadata": {},
   "source": [
    "###  Setup"
   ]
  },
  {
   "cell_type": "code",
   "execution_count": 1,
   "metadata": {
    "collapsed": true
   },
   "outputs": [],
   "source": [
    "#%nbtoc\n",
    "from clifford import * \n",
    "pretty(precision=2)\n",
    "\n",
    "# create algebra \n",
    "layout, blades = Cl(3,1, firstIdx=1)\n",
    "\n",
    "# assign vector basis\n",
    "e1,e2,e3,e4 = [blades['e%i'%k] for k in range(1,5)]\n",
    "\n",
    "# setup  null basis, and minkowski subspace bivector\n",
    "eo = .5^(e4-e3)\n",
    "einf= e3+e4\n",
    "E0= einf^eo\n",
    "I = e1^e2^e3^e4\n",
    "\n",
    "\n",
    "\n",
    "# convenience funcs to create vectors\n",
    "v4 =  lambda : randomMV(layout, grades=[1])\n",
    "def v2():\n",
    "    x=v4()\n",
    "    return x- E0.project(x)\n",
    "\n",
    "cot = lambda x: 1./tan(x)\n",
    "\n",
    "# short rotation func for versers\n",
    "Rot = lambda V,X: V*X*V.inv()\n",
    "# translation generator \n",
    "T =lambda a: 1+(.5^(einf*a))"
   ]
  },
  {
   "cell_type": "markdown",
   "metadata": {},
   "source": [
    "###  CGA and Complex-Vector Maps"
   ]
  },
  {
   "cell_type": "code",
   "execution_count": 2,
   "metadata": {
    "collapsed": true
   },
   "outputs": [],
   "source": [
    "# complex <-> vector \n",
    "c2v = lambda x: (x.real*e1) + (x.imag*e2) # complex2vector\n",
    "v2c = lambda x: float(x|e1)+ float(x|e2)*1j\n",
    "\n",
    "# CGA up/down projections\n",
    "up = lambda x: x + (.5^((x**2)*einf)) + eo\n",
    "homo = lambda x: x * (-x|einf).normalInv() # homogenise conformal vector\n",
    "down = lambda x: (homo(x)^E0)*E0"
   ]
  },
  {
   "cell_type": "code",
   "execution_count": 3,
   "metadata": {
    "collapsed": true
   },
   "outputs": [],
   "source": [
    "def equivalent(f_c, F,  args=[], debug=False):\n",
    "    '''\n",
    "    test for equivalence of a complex function and a CGA operator. \n",
    "     \n",
    "    a complex function f, operates on a random number x_c \n",
    "        y_c = f(x_c)\n",
    "    this is compared to \n",
    "        x_c -> x -> X -> Y -> y -> y_c\n",
    "    '''\n",
    "    tol = 1e-6\n",
    "    x_c = rand()+ rand()*1j \n",
    "    x = c2v(x_c) \n",
    "    X = up(x)\n",
    "    vargs = args[:]\n",
    "    for k in range(len(vargs)):\n",
    "        if imag(vargs[k])!= 0:\n",
    "            vargs[k] = c2v(vargs[k])\n",
    "    Y = F(X, *vargs)\n",
    "    y = down(Y)\n",
    "    y_c = v2c(y)\n",
    "    if debug:\n",
    "        print  (y_c, f_c(x_c,*args))\n",
    "        return abs(y_c - f_c(x_c,*args)) < tol\n",
    "    return abs(y_c - f_c(x_c,*args)) < tol"
   ]
  },
  {
   "cell_type": "markdown",
   "metadata": {},
   "source": [
    "### Complex operations"
   ]
  },
  {
   "cell_type": "code",
   "execution_count": 16,
   "metadata": {
    "collapsed": false
   },
   "outputs": [],
   "source": [
    "##  Complex Conjugation ( Z<->Z~)\n",
    "f_c = lambda x: x.conjugate()\n",
    "F = lambda X:  e2*X*e2\n",
    "assert equivalent(f_c,F)\n",
    "\n",
    "##  Complex Inversion ( Z<->Y)\n",
    "f_c = lambda x: 1./x\n",
    "F = lambda X:  Rot(e2^e3,X)\n",
    "assert equivalent(f_c,F)\n",
    "\n",
    "# defined this in case we use it later\n",
    "CI = lambda X: Rot((e2^e3),X) # complex inversion"
   ]
  },
  {
   "cell_type": "markdown",
   "metadata": {},
   "source": [
    "### Basis Transformations"
   ]
  },
  {
   "cell_type": "code",
   "execution_count": 5,
   "metadata": {
    "collapsed": false
   },
   "outputs": [],
   "source": [
    "## basis transforms\n",
    "Rzy = e**(pi/2*(e2^e3))\n",
    "Ryz = ~Rzy\n",
    "Rsz = e**(pi/4*(e1^e3))\n",
    "Rzs = ~Rsz\n",
    "Rsy = e**(-pi/(sqrt(2)*2)*(e2*e3+e2*e1))\n",
    "Rys = ~Rsy\n",
    "\n",
    "##  Basis Transform ( Z<->S)\n",
    "f_c = lambda x: (x-1)/(x+1)\n",
    "F = lambda X:  Rot(Rsz,X)\n",
    "assert equivalent(f_c,F)\n",
    "\n",
    "\n",
    "##  Basis Transform  ( Y<->S)\n",
    "f_c = lambda x: (1-x)/(1+x)\n",
    "F = lambda X:  Rot(Rsy,X)\n",
    "assert equivalent(f_c,F)"
   ]
  },
  {
   "cell_type": "markdown",
   "metadata": {},
   "source": [
    "###  Matched Transmission lines in S, Z, and Y"
   ]
  },
  {
   "cell_type": "code",
   "execution_count": 6,
   "metadata": {
    "collapsed": false
   },
   "outputs": [],
   "source": [
    "## Transmission lines\n",
    "Ls = lambda theta: e**(theta *(e1^e2))\n",
    "Lz = lambda theta: e**(-theta *(e2^e3))\n",
    "\n",
    "## Transmission line  (S)\n",
    "f_c = lambda x,theta: x*e**(-2j*theta)\n",
    "F = lambda X,theta:  Rot(Ls(theta),X)\n",
    "theta = rand()\n",
    "assert equivalent(f_c,F, args =[theta])\n",
    "\n",
    "## Transmission line  (Z) and (Y) \n",
    "f_c = lambda x,theta: (x+1j*tan(theta))/(1+x*1j*tan(theta))\n",
    "F = lambda X,theta:  Rot(Lz(theta),X)\n",
    "theta = rand()\n",
    "assert equivalent(f_c,F, args =[theta])\n"
   ]
  },
  {
   "cell_type": "markdown",
   "metadata": {},
   "source": [
    "### Distributed Element Group"
   ]
  },
  {
   "cell_type": "code",
   "execution_count": 10,
   "metadata": {
    "collapsed": false
   },
   "outputs": [],
   "source": [
    "# bivector algebra \n",
    "R =  e3*e4-e1*e3\n",
    "X = -e2*e4+e1*e2\n",
    "G =  e3*e4+e1*e3\n",
    "B =  e2*e4+e1*e2\n",
    "N =  e1*e4\n",
    "Q =  e3*e2\n",
    "\n",
    "L = e1*e2\n",
    "\n",
    "half=.5\n",
    "# Rotors\n",
    "Rr = lambda x: e**(half*x*R)\n",
    "Rx = lambda x:e**(half*x*X)\n",
    "Rg = lambda x:e**(half*x*G)\n",
    "Rb = lambda x:e**(half*x*B)\n",
    "Rn = lambda x:e**(-half*log(x)*N)\n",
    "Rq = lambda x:e**(half*x*Q)\n",
    "Rl = lambda x:e**(x*L)\n",
    "\n",
    "# intermediate functions used for verification\n",
    "s2z = lambda x: (1+x)/(1-x)\n",
    "z2s = lambda x: (x-1)/(x+1)\n",
    "s2y = lambda x: 1./s2z(x)\n",
    "y2s = lambda x: z2s(1./x)\n",
    "\n",
    "## Resistance\n",
    "f_c = lambda x,z: z2s(s2z(x)+z)\n",
    "F = lambda A,a:  Rot(Rr(a),A)\n",
    "z = rand()\n",
    "assert equivalent(f_c,F, args =[z])\n",
    "\n",
    "## Reactance\n",
    "f_c = lambda x,z: z2s(s2z(x)+z*1j)\n",
    "F = lambda A,a:  Rot(Rx(a),A)\n",
    "z = rand()\n",
    "assert equivalent(f_c,F, args =[z])\n",
    "\n",
    "## Conductance\n",
    "f_c = lambda x,z: y2s(s2y(x)+z)\n",
    "F = lambda X,x:  Rot(Rg(x),X)\n",
    "z = rand()\n",
    "assert equivalent(f_c,F, args=[z])\n",
    "\n",
    "\n",
    "## Susceptance\n",
    "f_c = lambda x,z: y2s(s2y(x)+z*1j)\n",
    "F = lambda X,x:  Rot(Rb(x),X)\n",
    "z = rand()\n",
    "assert equivalent(f_c,F, args=[z])\n",
    "\n",
    "\n",
    "## Impedance-scaling\n",
    "f_c = lambda x,n: z2s(s2z(x)*n)\n",
    "F = lambda X,x:  Rot(Rn(x),X)\n",
    "z = rand()\n",
    "assert equivalent(f_c,F, args=[z])\n",
    "\n",
    "## Impedance-rotating\n",
    "f_c = lambda x,theta: z2s(s2z(x)*exp(1j*theta))\n",
    "F = lambda X,x:  Rot(Rq(x),X)\n",
    "z = rand()\n",
    "assert equivalent(f_c,F, args=[z])"
   ]
  },
  {
   "cell_type": "markdown",
   "metadata": {},
   "source": [
    "### Stubs"
   ]
  },
  {
   "cell_type": "code",
   "execution_count": 11,
   "metadata": {
    "collapsed": false
   },
   "outputs": [],
   "source": [
    "tol=1e-9\n",
    "\n",
    "#stubs\n",
    "Rss = lambda theta: e**(-cot(theta)/2*B)\n",
    "\n",
    "## Shunt short\n",
    "f_c = lambda x,theta: (1-((1-x)/(1+x)-1j*cot(theta)))/(1+((1-x)/(1+x)-1j*cot(theta)))\n",
    "F = lambda X,theta:  Rot(Rss(theta),X)\n",
    "theta = rand()\n",
    "assert equivalent(f_c,F, args=[theta])\n",
    "\n",
    "## down-projected formula \n",
    "theta, phi = rand(2)\n",
    "g = e**(-2j*theta)*(1j*cot(phi))/(2-1j*cot(phi)) # series then shunt stub\n",
    "assert(abs(g)- (sqrt(1/(4*tan(phi)**2+1)))<tol)\n",
    "assert(tan(angle(g)) - (tan(2*theta)+2*tan(phi))/(2*tan(2*theta)*tan(phi)-1)<tol)"
   ]
  },
  {
   "cell_type": "markdown",
   "metadata": {
    "collapsed": true
   },
   "source": [
    "### Impedance Transformer"
   ]
  },
  {
   "cell_type": "code",
   "execution_count": 28,
   "metadata": {
    "collapsed": false
   },
   "outputs": [],
   "source": [
    "Rml90 = lambda n: ~Rn(n)*Rl(pi/2)*Rn(n)\n",
    "## Impedance-rotating\n",
    "f_c = lambda x,z: 1/x*z**-2\n",
    "F = lambda X,x: Rot(Rzs*Rml90(x)*Rsz,X)\n",
    "z = rand()\n",
    "assert equivalent(f_c,F, args=[z])"
   ]
  },
  {
   "cell_type": "code",
   "execution_count": null,
   "metadata": {
    "collapsed": true
   },
   "outputs": [],
   "source": []
  },
  {
   "cell_type": "code",
   "execution_count": null,
   "metadata": {
    "collapsed": true
   },
   "outputs": [],
   "source": []
  }
 ],
 "metadata": {
  "anaconda-cloud": {},
  "kernelspec": {
   "display_name": "Python [default]",
   "language": "python",
   "name": "python2"
  },
  "language_info": {
   "codemirror_mode": {
    "name": "ipython",
    "version": 2
   },
   "file_extension": ".py",
   "mimetype": "text/x-python",
   "name": "python",
   "nbconvert_exporter": "python",
   "pygments_lexer": "ipython2",
   "version": "2.7.12"
  }
 },
 "nbformat": 4,
 "nbformat_minor": 0
}
